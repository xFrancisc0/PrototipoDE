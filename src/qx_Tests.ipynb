{
 "cells": [
  {
   "cell_type": "markdown",
   "metadata": {
    "jp-MarkdownHeadingCollapsed": true
   },
   "source": [
    "# TEST UNITARIOS de los qx"
   ]
  },
  {
   "cell_type": "markdown",
   "metadata": {},
   "source": [
    "# Se realizan importaciones"
   ]
  },
  {
   "cell_type": "code",
   "execution_count": 1,
   "metadata": {},
   "outputs": [
    {
     "name": "stdout",
     "output_type": "stream",
     "text": [
      "pyspark version: 3.5.1\n",
      "pandas version: 2.2.2\n",
      "pyarrow version: 16.1.0\n"
     ]
    }
   ],
   "source": [
    "from pathlib import Path\n",
    "import pandas as pd\n",
    "from Utilidades.GlobalUtility import spark\n",
    "\n",
    "from q1_memory import q1_memory\n",
    "from q1_time import q1_time\n",
    "\n",
    "from q2_memory import q2_memory\n",
    "from q2_time import q2_time\n",
    "\n",
    "from q3_memory import q3_memory\n",
    "from q3_time import q3_time\n",
    "\n",
    "import pyspark #Validar errores de compatibilidades con UDF\n",
    "import pandas as pd #Validar errores de compatibilidades con UDF\n",
    "import pyarrow as pa #Validar errores de compatibilidades con UDF\n",
    "\n",
    "print(f\"pyspark version: {pyspark.__version__}\")\n",
    "print(f\"pandas version: {pd.__version__}\")\n",
    "print(f\"pyarrow version: {pa.__version__}\")"
   ]
  },
  {
   "cell_type": "markdown",
   "metadata": {},
   "source": [
    "# Declaracion de variables"
   ]
  },
  {
   "cell_type": "code",
   "execution_count": 2,
   "metadata": {},
   "outputs": [],
   "source": [
    "URLRequestRawDataZip = \"https://drive.usercontent.google.com/download?id=1ig2ngoXFTxP5Pa8muXo02mDTFexZzsis&export=download&authuser=0&confirm=t&uuid=d3ab3e9e-0e9e-4dfe-945a-a73286456315&at=APZUnTUiCQBVxpETIVQcpNAPpA7U%3A1720637781554\"\n",
    "\n",
    "NombreMuestra = \"qx_test_muestra.json\"\n",
    "NombreArchivo = \"qx_test.json\"\n",
    "\n",
    "dataset_path_parcial = f'TemporalBlobs/{NombreArchivo}'\n",
    "muestra_path_parcial = f'TemporalBlobs/{NombreMuestra}'\n",
    "n_elementos = 10\n",
    "\n",
    "dataset_path = Path(dataset_path_parcial)\n",
    "muestra_path = Path(muestra_path_parcial)"
   ]
  },
  {
   "cell_type": "markdown",
   "metadata": {},
   "source": [
    "# Se procede a realizar las pruebas unitarias"
   ]
  },
  {
   "cell_type": "code",
   "execution_count": 3,
   "metadata": {},
   "outputs": [],
   "source": [
    "def obtener_muestras_aleatorias_de_dataset(dataset_path, n_elementos, muestra_path):\n",
    "    df = pd.read_json(dataset_path)\n",
    "    muestra = df.sample(n=n_elementos, random_state=1)\n",
    "    muestra.to_json(muestra_path, orient='records', lines=False)\n",
    "\n",
    "def ExisteDatasetTestsBooleano():\n",
    "    if dataset_path.exists():\n",
    "        print(\"Ya existe el dataset, no se creará\")\n",
    "        return True\n",
    "    else:\n",
    "        print(\"No existe el dataset de pruebas, se creará\")\n",
    "        return False\n",
    "\n",
    "def ExisteMuestraBooleano():\n",
    "    if muestra_path.exists():\n",
    "        print(\"Ya existe la muestra, no se creará\")\n",
    "        return True\n",
    "    else:\n",
    "        print(\"No existe la muestra, se creará\")\n",
    "        return False"
   ]
  },
  {
   "cell_type": "code",
   "execution_count": 4,
   "metadata": {
    "scrolled": true
   },
   "outputs": [
    {
     "name": "stdout",
     "output_type": "stream",
     "text": [
      "Ya existe el dataset, no se creará\n",
      "Ya existe la muestra, no se creará\n",
      "\n",
      "Q1: Las top 10 fechas donde hay más tweets y sus usuarios: \n",
      "===========================================================\n",
      "Q1: Iniciando\n",
      "Filename: D:\\Francisco\\Desarrollos\\PrototipoPythonLATAM\\src\\q1_memory.py\n",
      "\n",
      "Line #    Mem usage    Increment  Occurrences   Line Contents\n",
      "=============================================================\n",
      "    13    130.0 MiB    130.0 MiB           1   @profile\n",
      "    14                                         def q1_memory(file_path: str) -> List[Tuple[datetime.date, str]]:\n",
      "    15    130.0 MiB      0.0 MiB           1       print(\"Q1: Iniciando\")\n",
      "    16    130.3 MiB      0.0 MiB           2       with open(Path(file_path), 'r') as f:\n",
      "    17    130.3 MiB      0.3 MiB           1           data = json.load(f)  # Cargar el archivo JSON\n",
      "    18                                         \n",
      "    19    130.7 MiB      0.4 MiB           1       df = pd.DataFrame(data)  # Crear un DataFrame a partir de los datos JSON\n",
      "    20                                             \n",
      "    21                                             # Extraer la columna 'username' de 'user' en una nueva columna\n",
      "    22    130.9 MiB      0.2 MiB          21       df['username'] = df['user'].apply(lambda x: x['username'] if isinstance(x, dict) and 'username' in x else None)\n",
      "    23                                             # Seleccionar las columnas deseadas y ordenar por 'retweetCount' en orden descendente\n",
      "    24    131.2 MiB      0.3 MiB           1       result = df[['date', 'username', 'retweetCount']].sort_values(by='retweetCount', ascending=False).drop(columns=['retweetCount']).head(10)\n",
      "    25                                         \n",
      "    26    131.2 MiB      0.0 MiB           1       return result\n",
      "\n",
      "\n",
      "\n",
      "Los top 10 emojis más usados con su respectivo conteo: \n",
      "===========================================================\n",
      "Q2: Iniciando\n",
      "Filename: D:\\Francisco\\Desarrollos\\PrototipoPythonLATAM\\src\\q2_memory.py\n",
      "\n",
      "Line #    Mem usage    Increment  Occurrences   Line Contents\n",
      "=============================================================\n",
      "    45    131.2 MiB    131.2 MiB           1   @profile\n",
      "    46                                         def q2_memory(file_path: str) -> List[Tuple[str, int]]:\n",
      "    47    131.2 MiB      0.0 MiB           1       print(\"Q2: Iniciando\")\n",
      "    48                                             \n",
      "    49    131.2 MiB      0.0 MiB           2       with open(file_path, 'r') as f:\n",
      "    50    131.2 MiB      0.0 MiB           1           data = json.load(f)  # Cargar el archivo JSON\n",
      "    51                                             \n",
      "    52    131.2 MiB      0.0 MiB           1       df = pd.DataFrame(data)  # Crear un DataFrame a partir de los datos JSON\n",
      "    53                                             \n",
      "    54    131.2 MiB      0.0 MiB           1       all_emojis = []\n",
      "    55                                             \n",
      "    56                                             # Aplicar la función a cada fila del DataFrame\n",
      "    57    131.4 MiB      0.0 MiB          11       for _, fila in df.iterrows():\n",
      "    58    131.4 MiB      0.1 MiB          10           all_emojis.extend(extraer_emojis_de_columnas(fila))\n",
      "    59                                             \n",
      "    60                                             # Contar emojis y obtener los 10 más comunes\n",
      "    61    131.4 MiB      0.0 MiB           1       emoji_counts = Counter(all_emojis)\n",
      "    62    131.4 MiB      0.0 MiB           1       top_10_emojis = emoji_counts.most_common(10)\n",
      "    63                                             \n",
      "    64    131.4 MiB      0.0 MiB           1       return top_10_emojis\n",
      "\n",
      "\n"
     ]
    },
    {
     "ename": "NameError",
     "evalue": "name 'q2_t' is not defined",
     "output_type": "error",
     "traceback": [
      "\u001b[1;31m---------------------------------------------------------------------------\u001b[0m",
      "\u001b[1;31mNameError\u001b[0m                                 Traceback (most recent call last)",
      "Cell \u001b[1;32mIn[4], line 26\u001b[0m\n\u001b[0;32m     24\u001b[0m q2_m \u001b[38;5;241m=\u001b[39m q2_memory(muestra_path_parcial)\n\u001b[0;32m     25\u001b[0m \u001b[38;5;66;03m#q2_t = q2_time(muestra_path_parcial)\u001b[39;00m\n\u001b[1;32m---> 26\u001b[0m \u001b[38;5;28mprint\u001b[39m(\u001b[43mq2_t\u001b[49m)\n\u001b[0;32m     29\u001b[0m \u001b[38;5;28mprint\u001b[39m(\u001b[38;5;124m\"\u001b[39m\u001b[38;5;124m\"\u001b[39m)\n\u001b[0;32m     30\u001b[0m \u001b[38;5;28mprint\u001b[39m(\u001b[38;5;124m\"\u001b[39m\u001b[38;5;124mQ3: El top 10 histórico de usuarios (username) más influyentes en función del conteo de las menciones (@) que registra cada uno de ellos:\u001b[39m\u001b[38;5;124m\"\u001b[39m)\n",
      "\u001b[1;31mNameError\u001b[0m: name 'q2_t' is not defined"
     ]
    }
   ],
   "source": [
    "if(not ExisteDatasetTestsBooleano()):\n",
    "    RawDataInput = Utility.ObtenerDataPorHTTPRequest(URLRequestRawDataZip, 'GET', 'JSON', True)\n",
    "    archivo_path = Path(f'TemporalBlobs/{NombreArchivo}')\n",
    "    \n",
    "    with archivo_path.open('wb') as f:\n",
    "        f.write(RawDataInput.encode(\"utf8\"))  # Escribir los datos en el archivo\n",
    "\n",
    "if(not ExisteMuestraBooleano()):\n",
    "    print(f\"Generando muestra aleatoria de {n_elementos} elementos: \")\n",
    "    muestra_path = obtener_muestras_aleatorias_de_dataset(dataset_path, n_elementos, muestra_path)\n",
    "\n",
    "\n",
    "print(\"\")\n",
    "print(\"Q1: Las top 10 fechas donde hay más tweets y sus usuarios: \")\n",
    "print(\"===========================================================\")\n",
    "q1_m = q1_memory(muestra_path_parcial)\n",
    "#q1_t = q1_time(muestra_path_parcial)\n",
    "#print(q1_t)\n",
    "\n",
    "\n",
    "print(\"\")\n",
    "print(\"Los top 10 emojis más usados con su respectivo conteo: \")\n",
    "print(\"===========================================================\")\n",
    "q2_m = q2_memory(muestra_path_parcial)\n",
    "#q2_t = q2_time(muestra_path_parcial)\n",
    "print(q2_t)\n",
    "\n",
    "\n",
    "print(\"\")\n",
    "print(\"Q3: El top 10 histórico de usuarios (username) más influyentes en función del conteo de las menciones (@) que registra cada uno de ellos:\")\n",
    "print(\"===========================================================\")\n",
    "q3_m = q3_memory(muestra_path_parcial)\n",
    "#q3_t = q3_time(muestra_path_parcial)\n",
    "#print(q3_t)\n",
    "\n",
    "spark.stop() #Despues de ocupar spark en q1_t, q2_t, q3_t, se cierra la sesión de spark.\n"
   ]
  }
 ],
 "metadata": {
  "kernelspec": {
   "display_name": "Python 3 (ipykernel)",
   "language": "python",
   "name": "python3"
  },
  "language_info": {
   "codemirror_mode": {
    "name": "ipython",
    "version": 3
   },
   "file_extension": ".py",
   "mimetype": "text/x-python",
   "name": "python",
   "nbconvert_exporter": "python",
   "pygments_lexer": "ipython3",
   "version": "3.12.4"
  }
 },
 "nbformat": 4,
 "nbformat_minor": 4
}
