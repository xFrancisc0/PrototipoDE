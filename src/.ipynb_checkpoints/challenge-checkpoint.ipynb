{
 "cells": [
  {
   "cell_type": "markdown",
   "metadata": {},
   "source": [
    "# Se realizan importaciones"
   ]
  },
  {
   "cell_type": "code",
   "execution_count": 1,
   "metadata": {},
   "outputs": [],
   "source": [
    "from Servicios.GoogleDriveService.GoogleDriveService import GoogleDriveService\n",
    "from Servicios.AdvanaService.AdvanaService import AdvanaService\n",
    "from Servicios.OrquestadorService.OrchestrateService import OrchestrateService\n",
    "\n",
    "from Utilidades.GlobalUtility import ObtenerDataPorHTTPRequest\n",
    "import Utilidades.GlobalUtility as Utility\n",
    "\n",
    "import pandas as pd\n",
    "import json\n",
    "\n",
    "from pathlib import Path\n",
    "\n",
    "from q1_memory import q1_memory\n",
    "from q1_time import q1_time\n",
    "\n",
    "from q2_memory import q2_memory\n",
    "from q2_time import q2_time\n",
    "\n",
    "from q3_memory import q3_memory\n",
    "from q3_time import q3_time"
   ]
  },
  {
   "cell_type": "markdown",
   "metadata": {},
   "source": [
    "# Se definen variables de Buckets de GCP"
   ]
  },
  {
   "cell_type": "code",
   "execution_count": 2,
   "metadata": {},
   "outputs": [],
   "source": [
    "IdContenedorBronze = \"1yQCQ3BhNPdXiz890KTF9iNB5qdeTATlV\" #Bronce\n",
    "IdContenedorGold = \"1TMq41pVhsEDK1IUP4kQHzf7aIsagVihE\" #Gold\n",
    "\n",
    "URLRequestRawDataZip = \"https://drive.usercontent.google.com/download?id=1ig2ngoXFTxP5Pa8muXo02mDTFexZzsis&export=download&authuser=0&confirm=t&uuid=d3ab3e9e-0e9e-4dfe-945a-a73286456315&at=APZUnTUiCQBVxpETIVQcpNAPpA7U%3A1720637781554\"\n",
    "NombreArchivo = \"data.json\""
   ]
  },
  {
   "cell_type": "markdown",
   "metadata": {},
   "source": [
    "# Se definen variables de Advana"
   ]
  },
  {
   "cell_type": "code",
   "execution_count": 3,
   "metadata": {},
   "outputs": [],
   "source": [
    "JSONObjEntregaAdvana = {\"name\": \"TDD (Pruebas) EnviarPeticionHTTP() Advana Fmateu\",\n",
    "           \"mail\": \"francisco.mateu.araneda@gmail.com Aun en desarrollo\",\n",
    "           \"github_url\": \"https://github.com/xFrancisc0/PrototipoDE\"}\n",
    "           \n",
    "URLRequestEntregaAdvana = \"https://advana-challenge-check-api-cr-k4hdbggvoq-uc.a.run.app/data-engineer\""
   ]
  },
  {
   "cell_type": "markdown",
   "metadata": {
    "scrolled": true
   },
   "source": [
    "# Se instancian los servicios de la aplicación y se inyectan en el orquestador\n",
    "El objetivo es una vez que se instancie el orquestador, que se orqueste una ingesta de data desde https://drive.google.com/file/d/1ig2ngoXFTxP5Pa8muXo02mDTFexZzsis/view?usp=sharing y que se guarde en la zona bronze del \"Datalake\" de prototipo Es una URL pública: https://drive.google.com/drive/u/2/folders/1nVbnD0pgYnAeym3lUoNna5cE7goN2U5N (Fue desplegado este Datalake para ser visto desde el exterior sin permisos de edición. Esto es para mostrar el funcionamiento del presente proyecto)\n",
    "\n",
    "Posteriormente, el orquestador cargara la data desde la zona bronce, se le aplicarán todos los procedimientos y se guardará en la zona Gold."
   ]
  },
  {
   "cell_type": "code",
   "execution_count": 4,
   "metadata": {},
   "outputs": [],
   "source": [
    "# Crear instancias de servicios e inyectarlos en el orquestador para mayor simplicidad\n",
    "google_drive_service = GoogleDriveService()\n",
    "advana_service = AdvanaService()\n",
    "\n",
    "# Crear instancia de OrchestrateService, inyectando GoogleDriveService\n",
    "orchestrate_service = OrchestrateService(google_drive_service, advana_service)\n",
    "\n",
    "#Destruir objetos que no se ocuparan\n",
    "del google_drive_service\n",
    "del advana_service"
   ]
  },
  {
   "cell_type": "markdown",
   "metadata": {},
   "source": [
    "# Se obtiene la raw data y se almacena en zona bronze\n",
    "Para ver el datalake: https://drive.google.com/drive/u/2/folders/1nVbnD0pgYnAeym3lUoNna5cE7goN2U5N"
   ]
  },
  {
   "cell_type": "code",
   "execution_count": 5,
   "metadata": {},
   "outputs": [
    {
     "name": "stdout",
     "output_type": "stream",
     "text": [
      "Obteniendo JSON POR HTTP Request\n",
      "Archivo JSON descomprimido y cargado exitosamente.\n",
      "Subiendo data a Google Drive\n",
      "Archivo data.json ya existente en google cloud con ID 1C5-XEogq-prC_h5-7sb6-LywM19cqg7_ eliminado (overwrite).\n",
      "Archivo 'data.json' subido correctamente. ID: 1QfkIekh_P0dPInQQiay7AaiBgUepoPa7\n"
     ]
    }
   ],
   "source": [
    "\n",
    "RawDataInput = Utility.ObtenerDataPorHTTPRequest(URLRequestRawDataZip, 'GET', 'JSON', True)\n",
    "\n",
    "#Cargar raw data a zona bronze\n",
    "orchestrate_service.google_drive_service.subir_archivo_a_contenedor(IdContenedorBronze, NombreArchivo, RawDataInput)\n",
    "\n",
    "#Destruir objeto RawDataInput\n",
    "del RawDataInput\n"
   ]
  },
  {
   "cell_type": "markdown",
   "metadata": {},
   "source": [
    "# Se obtiene la data de la zona de bronze y se guarda en TemporalBlobs. Se elimina de la memoria."
   ]
  },
  {
   "cell_type": "code",
   "execution_count": 6,
   "metadata": {},
   "outputs": [
    {
     "name": "stdout",
     "output_type": "stream",
     "text": [
      "Archivos encontrados:  [{'kind': 'drive#file', 'mimeType': 'application/json', 'id': '1QfkIekh_P0dPInQQiay7AaiBgUepoPa7', 'name': 'data.json'}]\n",
      "Descargando 25%.\n",
      "Descargando 51%.\n",
      "Descargando 77%.\n",
      "Descargando 100%.\n"
     ]
    },
    {
     "ename": "NameError",
     "evalue": "name 'NombreArchivo' is not defined",
     "output_type": "error",
     "traceback": [
      "\u001b[1;31m---------------------------------------------------------------------------\u001b[0m",
      "\u001b[1;31mNameError\u001b[0m                                 Traceback (most recent call last)",
      "Cell \u001b[1;32mIn[6], line 6\u001b[0m\n\u001b[0;32m      3\u001b[0m BronzeDataInput \u001b[38;5;241m=\u001b[39m orchestrate_service\u001b[38;5;241m.\u001b[39mgoogle_drive_service\u001b[38;5;241m.\u001b[39mdescargar_archivo_porid(BronzeMetadata[\u001b[38;5;241m0\u001b[39m][\u001b[38;5;124m\"\u001b[39m\u001b[38;5;124mid\u001b[39m\u001b[38;5;124m\"\u001b[39m])\n\u001b[0;32m      5\u001b[0m \u001b[38;5;66;03m# Crear una instancia de Path para la ruta del archivo\u001b[39;00m\n\u001b[1;32m----> 6\u001b[0m archivo_path \u001b[38;5;241m=\u001b[39m Path(\u001b[38;5;124mf\u001b[39m\u001b[38;5;124m'\u001b[39m\u001b[38;5;124mTemporalBlobs/\u001b[39m\u001b[38;5;132;01m{\u001b[39;00m\u001b[43mNombreArchivo\u001b[49m\u001b[38;5;132;01m}\u001b[39;00m\u001b[38;5;124m'\u001b[39m)\n\u001b[0;32m      8\u001b[0m \u001b[38;5;66;03m# Asegurarse de que el directorio existe\u001b[39;00m\n\u001b[0;32m      9\u001b[0m archivo_path\u001b[38;5;241m.\u001b[39mparent\u001b[38;5;241m.\u001b[39mmkdir(parents\u001b[38;5;241m=\u001b[39m\u001b[38;5;28;01mTrue\u001b[39;00m, exist_ok\u001b[38;5;241m=\u001b[39m\u001b[38;5;28;01mTrue\u001b[39;00m)\n",
      "\u001b[1;31mNameError\u001b[0m: name 'NombreArchivo' is not defined"
     ]
    }
   ],
   "source": [
    "#Cargar en memoria de zona bronze\n",
    "BronzeMetadata = orchestrate_service.google_drive_service.listar_archivos_en_contenedorSTR(IdContenedorBronze)\n",
    "BronzeDataInput = orchestrate_service.google_drive_service.descargar_archivo_porid(BronzeMetadata[0][\"id\"])\n",
    "\n",
    "# Crear una instancia de Path para la ruta del archivo\n",
    "archivo_path = Path(f'TemporalBlobs/{NombreArchivo}')\n",
    "\n",
    "# Asegurarse de que el directorio existe\n",
    "archivo_path.parent.mkdir(parents=True, exist_ok=True)\n",
    "\n",
    "# Escribir los datos al archivo\n",
    "with open(archivo_path, 'wb') as f:\n",
    "    f.write(BronzeDataInput)  # Escribir los datos en formato de bytes\n",
    "\n",
    "print(f\"Archivo bronze guardado en: {archivo_path}\")"
   ]
  },
  {
   "cell_type": "markdown",
   "metadata": {},
   "source": [
    "# Se procede a realizar las transformaciones requeridas"
   ]
  },
  {
   "cell_type": "code",
   "execution_count": null,
   "metadata": {},
   "outputs": [],
   "source": [
    "BronzeDataETL = BronzeDataInput\n",
    "\n",
    "#Destruir objeto BronzeDataETL\n",
    "del BronzeDataInput\n",
    "\n",
    "json_data = json.loads(BronzeDataETL.decode('utf-8'))\n",
    "\n",
    "with open(file_path, 'wb') as file:\n",
    "    file.write(data_bytes)  # Escribir los bytes en el archivo\n",
    "    \n",
    "# Listar todas las columnas\n",
    "print(df.columns)\n",
    "# Si quieres una lista de las columnas\n",
    "column_list = df.columns.tolist()\n",
    "print(column_list)"
   ]
  },
  {
   "cell_type": "markdown",
   "metadata": {},
   "source": [
    "# El dataset posterior a sus transformaciones se guarda en la zona gold del Datalake\n",
    "Para ver el datalake: https://drive.google.com/drive/u/2/folders/1nVbnD0pgYnAeym3lUoNna5cE7goN2U5N"
   ]
  },
  {
   "cell_type": "code",
   "execution_count": 8,
   "metadata": {},
   "outputs": [
    {
     "data": {
      "text/plain": [
       "'\\norchestrate_service.google_drive_service.subir_archivo_a_contenedor(IdContenedorGold, NombreArchivoEnDataLake, BronzeDataETL)\\n\\n#Destruir objeto RawDataInput\\ndel BronzeDataETL\\n'"
      ]
     },
     "execution_count": 8,
     "metadata": {},
     "output_type": "execute_result"
    }
   ],
   "source": [
    "\"\"\"\n",
    "orchestrate_service.google_drive_service.subir_archivo_a_contenedor(IdContenedorGold, NombreArchivo, BronzeDataETL)\n",
    "\n",
    "#Destruir objeto RawDataInput\n",
    "del BronzeDataETL\n",
    "\"\"\""
   ]
  },
  {
   "cell_type": "code",
   "execution_count": null,
   "metadata": {},
   "outputs": [],
   "source": []
  },
  {
   "cell_type": "code",
   "execution_count": null,
   "metadata": {},
   "outputs": [],
   "source": []
  }
 ],
 "metadata": {
  "kernelspec": {
   "display_name": "Python 3 (ipykernel)",
   "language": "python",
   "name": "python3"
  },
  "language_info": {
   "codemirror_mode": {
    "name": "ipython",
    "version": 3
   },
   "file_extension": ".py",
   "mimetype": "text/x-python",
   "name": "python",
   "nbconvert_exporter": "python",
   "pygments_lexer": "ipython3",
   "version": "3.12.4"
  }
 },
 "nbformat": 4,
 "nbformat_minor": 4
}
