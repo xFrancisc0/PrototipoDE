{
 "cells": [
  {
   "cell_type": "code",
   "execution_count": 1,
   "metadata": {},
   "outputs": [],
   "source": [
    "from Servicios.GoogleDriveService.GoogleDriveService import GoogleDriveService\n",
    "from Servicios.OrquestadorService.OrchestrateService import OrchestrateService"
   ]
  },
  {
   "cell_type": "markdown",
   "metadata": {},
   "source": [
    "Se definen metodos "
   ]
  },
  {
   "cell_type": "markdown",
   "metadata": {},
   "source": [
    "file_path = \"farmers-protest-tweets-2021-2-4.json\"\n",
    "\n",
    "orchestrate_service = OrchestrateService()\n",
    "orchestrate_service.gdriveservice_listar_archivos()"
   ]
  },
  {
   "cell_type": "code",
   "execution_count": 1,
   "metadata": {},
   "outputs": [
    {
     "ename": "NameError",
     "evalue": "name 'GoogleDriveService' is not defined",
     "output_type": "error",
     "traceback": [
      "\u001b[1;31m---------------------------------------------------------------------------\u001b[0m",
      "\u001b[1;31mNameError\u001b[0m                                 Traceback (most recent call last)",
      "Cell \u001b[1;32mIn[1], line 2\u001b[0m\n\u001b[0;32m      1\u001b[0m \u001b[38;5;66;03m# Crear instancia de GoogleDriveService\u001b[39;00m\n\u001b[1;32m----> 2\u001b[0m google_drive_service \u001b[38;5;241m=\u001b[39m \u001b[43mGoogleDriveService\u001b[49m()\n\u001b[0;32m      4\u001b[0m \u001b[38;5;66;03m# Crear instancia de OrchestrateService, inyectando GoogleDriveService\u001b[39;00m\n\u001b[0;32m      5\u001b[0m \u001b[38;5;66;03m#orchestrate_service = OrchestrateService(google_drive_service)\u001b[39;00m\n\u001b[0;32m      6\u001b[0m \n\u001b[0;32m      7\u001b[0m \u001b[38;5;66;03m# Ejecutar el método gdriveservice_listar_archivos desde OrchestrateService\u001b[39;00m\n\u001b[0;32m      8\u001b[0m \u001b[38;5;66;03m#orchestrate_service.gdriveservice_listar_archivos()\u001b[39;00m\n",
      "\u001b[1;31mNameError\u001b[0m: name 'GoogleDriveService' is not defined"
     ]
    }
   ],
   "source": [
    "    print(\"hola\")\n",
    "    # Crear instancia de GoogleDriveService\n",
    "    google_drive_service = GoogleDriveService()\n",
    "\n",
    "    # Crear instancia de OrchestrateService, inyectando GoogleDriveService\n",
    "    #orchestrate_service = OrchestrateService(google_drive_service)\n",
    "\n",
    "    # Ejecutar el método gdriveservice_listar_archivos desde OrchestrateService\n",
    "    #orchestrate_service.gdriveservice_listar_archivos()"
   ]
  },
  {
   "cell_type": "code",
   "execution_count": null,
   "metadata": {},
   "outputs": [],
   "source": []
  },
  {
   "cell_type": "code",
   "execution_count": null,
   "metadata": {},
   "outputs": [],
   "source": []
  }
 ],
 "metadata": {
  "kernelspec": {
   "display_name": "Python 3 (ipykernel)",
   "language": "python",
   "name": "python3"
  },
  "language_info": {
   "codemirror_mode": {
    "name": "ipython",
    "version": 3
   },
   "file_extension": ".py",
   "mimetype": "text/x-python",
   "name": "python",
   "nbconvert_exporter": "python",
   "pygments_lexer": "ipython3",
   "version": "3.12.4"
  }
 },
 "nbformat": 4,
 "nbformat_minor": 4
}
