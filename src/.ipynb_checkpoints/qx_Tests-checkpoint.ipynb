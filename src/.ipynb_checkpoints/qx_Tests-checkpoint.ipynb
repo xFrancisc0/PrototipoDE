{
 "cells": [
  {
   "cell_type": "markdown",
   "metadata": {
    "jp-MarkdownHeadingCollapsed": true
   },
   "source": [
    "# TEST UNITARIOS de los qx"
   ]
  },
  {
   "cell_type": "markdown",
   "metadata": {},
   "source": [
    "# Se realizan importaciones"
   ]
  },
  {
   "cell_type": "code",
   "execution_count": 1,
   "metadata": {},
   "outputs": [],
   "source": [
    "from pathlib import Path\n",
    "import pandas as pd\n",
    "from Utilidades.GlobalUtility import spark\n",
    "\n",
    "from q1_memory import q1_memory\n",
    "from q1_time import q1_time\n",
    "\n",
    "from q2_memory import q2_memory\n",
    "from q2_time import q2_time\n",
    "\n",
    "from q3_memory import q3_memory\n",
    "from q3_time import q3_time"
   ]
  },
  {
   "cell_type": "markdown",
   "metadata": {},
   "source": [
    "# Declaracion de variables"
   ]
  },
  {
   "cell_type": "code",
   "execution_count": 2,
   "metadata": {},
   "outputs": [],
   "source": [
    "URLRequestRawDataZip = \"https://drive.usercontent.google.com/download?id=1ig2ngoXFTxP5Pa8muXo02mDTFexZzsis&export=download&authuser=0&confirm=t&uuid=d3ab3e9e-0e9e-4dfe-945a-a73286456315&at=APZUnTUiCQBVxpETIVQcpNAPpA7U%3A1720637781554\"\n",
    "\n",
    "NombreMuestra = \"qx_test_muestra.json\"\n",
    "NombreArchivo = \"qx_test.json\"\n",
    "\n",
    "dataset_path_parcial = f'TemporalBlobs/{NombreArchivo}'\n",
    "muestra_path_parcial = f'TemporalBlobs/{NombreMuestra}'\n",
    "n_elementos = 10\n",
    "\n",
    "dataset_path = Path(dataset_path_parcial)\n",
    "muestra_path = Path(muestra_path_parcial)"
   ]
  },
  {
   "cell_type": "markdown",
   "metadata": {},
   "source": [
    "# Se procede a realizar las pruebas unitarias"
   ]
  },
  {
   "cell_type": "code",
   "execution_count": 3,
   "metadata": {},
   "outputs": [],
   "source": [
    "def obtener_muestras_aleatorias_de_dataset(dataset_path, n_elementos, muestra_path):\n",
    "    df = pd.read_json(dataset_path)\n",
    "    muestra = df.sample(n=n_elementos, random_state=1)\n",
    "    muestra.to_json(muestra_path, orient='records', lines=False)\n",
    "\n",
    "def ExisteDatasetTestsBooleano():\n",
    "    if dataset_path.exists():\n",
    "        print(\"Ya existe el dataset, no se creará\")\n",
    "        return True\n",
    "    else:\n",
    "        print(\"No existe el dataset de pruebas, se creará\")\n",
    "        return False\n",
    "\n",
    "def ExisteMuestraBooleano():\n",
    "    if muestra_path.exists():\n",
    "        print(\"Ya existe la muestra, no se creará\")\n",
    "        return True\n",
    "    else:\n",
    "        print(\"No existe la muestra, se creará\")\n",
    "        return False"
   ]
  },
  {
   "cell_type": "code",
   "execution_count": 4,
   "metadata": {},
   "outputs": [
    {
     "name": "stdout",
     "output_type": "stream",
     "text": [
      "Ya existe el dataset, no se creará\n",
      "Ya existe la muestra, no se creará\n",
      "\n",
      "Q3: El top 10 histórico de usuarios (username) más influyentes en función del conteo de las menciones (@) que registra cada uno de ellos:\n",
      "===========================================================\n",
      "Df inicial: \n",
      "+--------------------+-------------------+-------------+-------------------+----+---------+--------------------+--------------------+--------------------+----------+--------------------+--------------------+----------+------------+--------------+--------------------+-------------------+--------------------+--------------------+--------------------+--------------------+\n",
      "|             content|     conversationId|         date|                 id|lang|likeCount|               media|      mentionedUsers|            outlinks|quoteCount|         quotedTweet|     renderedContent|replyCount|retweetCount|retweetedTweet|              source|        sourceLabel|           sourceUrl|         tcooutlinks|                 url|                user|\n",
      "+--------------------+-------------------+-------------+-------------------+----+---------+--------------------+--------------------+--------------------+----------+--------------------+--------------------+----------+------------+--------------+--------------------+-------------------+--------------------+--------------------+--------------------+--------------------+\n",
      "|     #FarmersProtest|1362126068665118720|1613591136000|1362126068665118720| und|        0|                NULL|                NULL|                  []|         0|                NULL|     #FarmersProtest|         0|           0|          NULL|<a href=\"http://t...|Twitter for Android|http://twitter.co...|                  []|https://twitter.c...|{2020-03-06T03:46...|\n",
      "|केंद्र सरकारच्या ...|1363092471765426176|1613821544000|1363092471765426176|  mr|       51|                NULL|                NULL|[https://bit.ly/3...|         1|                NULL|केंद्र सरकारच्या ...|         3|           4|          NULL|<a href=\"https://...|    Twitter Web App|https://mobile.tw...|[https://t.co/aKM...|https://twitter.c...|{2016-09-21T08:14...|\n",
      "|निलोठी धरने में म...|1364122115096473603|1614067031000|1364122115096473603|  hi|       16|[{https://pbs.twi...|                NULL|                  []|         0|                NULL|निलोठी धरने में म...|         1|           9|          NULL|<a href=\"https://...|    Twitter Web App|https://mobile.tw...|                  []|https://twitter.c...|{2016-09-02T09:50...|\n",
      "|@swati_gs #Farmer...|1361562997387190282|1613653187000|1362386330383245322| und|        0|                NULL|[{NULL, NULL, NUL...|                  []|         0|                NULL|@swati_gs #Farmer...|         0|           0|          NULL|<a href=\"https://...|    Twitter Web App|https://mobile.tw...|                  []|https://twitter.c...|{2011-08-07T16:47...|\n",
      "|#पेट्रोल ने शानदा...|1361676240227356672|1613483889000|1361676240227356672|  hi|        2|                NULL|                NULL|                  []|         0|                NULL|#पेट्रोल ने शानदा...|         0|           2|          NULL|<a href=\"https://...|    Twitter Web App|https://mobile.tw...|                  []|https://twitter.c...|{2021-02-04T04:30...|\n",
      "|@PunYaab They are...|1361972808671064064|1613557353000|1361984374317678594|  en|        7|                NULL|[{NULL, NULL, NUL...|                  []|         0|                NULL|@PunYaab They are...|         0|           1|          NULL|<a href=\"https://...|    Twitter Web App|https://mobile.tw...|                  []|https://twitter.c...|{2020-06-04T14:32...|\n",
      "|#FarmersProtest h...|1361187468507193345|1613367356000|1361187468507193345| und|        0|                NULL|                NULL|[https://twitter....|         0|{They went after ...|#FarmersProtest t...|         0|           0|          NULL|<a href=\"http://t...|Twitter for Android|http://twitter.co...|[https://t.co/HIc...|https://twitter.c...|{2021-02-02T16:49...|\n",
      "|@Monica89144391 @...|1360241436780683266|1613185003000|1360422623654498306| und|        1|                NULL|[{NULL, NULL, NUL...|                  []|         0|                NULL|@Monica89144391 @...|         1|           0|          NULL|<a href=\"http://t...|Twitter for Android|http://twitter.co...|                  []|https://twitter.c...|{2010-09-26T16:11...|\n",
      "|And, this is how ...|1360942395999797252|1613323868000|1361005064979173381|  en|        2|                NULL|                NULL|[https://twitter....|         0|{\"Shocking abdica...|And, this is how ...|         1|           2|          NULL|<a href=\"https://...|    Twitter Web App|https://mobile.tw...|[https://t.co/f6z...|https://twitter.c...|{2012-04-21T14:06...|\n",
      "|ਏਕ ਦੂਨੀ ਦੂਨੀ ਦੋ ਦ...|1363846839842185221|1614001400000|1363846839842185221|  pa|        2|[{https://pbs.twi...|                NULL|                  []|         0|                NULL|ਏਕ ਦੂਨੀ ਦੂਨੀ ਦੋ ਦ...|         0|           1|          NULL|<a href=\"http://t...|Twitter for Android|http://twitter.co...|                  []|https://twitter.c...|{2021-02-04T08:58...|\n",
      "+--------------------+-------------------+-------------+-------------------+----+---------+--------------------+--------------------+--------------------+----------+--------------------+--------------------+----------+------------+--------------+--------------------+-------------------+--------------------+--------------------+--------------------+--------------------+\n",
      "\n",
      "Guardar numero de mencionados por usuario en otra columna\n",
      "+-------------+---------------+\n",
      "|     username|numeroMenciones|\n",
      "+-------------+---------------+\n",
      "|    prvis2004|              1|\n",
      "| Lambardar707|              1|\n",
      "|Atulbobsidana|              4|\n",
      "+-------------+---------------+\n",
      "\n",
      "Ordenar por numeroMenciones desc\n",
      "+-------------+---------------+\n",
      "|     username|numeroMenciones|\n",
      "+-------------+---------------+\n",
      "|Atulbobsidana|              4|\n",
      "|    prvis2004|              1|\n",
      "| Lambardar707|              1|\n",
      "+-------------+---------------+\n",
      "\n",
      "Seleccionar solo los primeros 10\n",
      "+-------------+---------------+\n",
      "|     username|numeroMenciones|\n",
      "+-------------+---------------+\n",
      "|Atulbobsidana|              4|\n",
      "|    prvis2004|              1|\n",
      "| Lambardar707|              1|\n",
      "+-------------+---------------+\n",
      "\n",
      "[('Atulbobsidana', 4), ('prvis2004', 1), ('Lambardar707', 1)]\n"
     ]
    }
   ],
   "source": [
    "if(not ExisteDatasetTestsBooleano()):\n",
    "    RawDataInput = Utility.ObtenerDataPorHTTPRequest(URLRequestRawDataZip, 'GET', 'JSON', True)\n",
    "    archivo_path = Path(f'TemporalBlobs/{NombreArchivo}')\n",
    "    \n",
    "    with archivo_path.open('wb') as f:\n",
    "        f.write(RawDataInput.encode(\"utf8\"))  # Escribir los datos en el archivo\n",
    "\n",
    "if(not ExisteMuestraBooleano()):\n",
    "    print(f\"Generando muestra aleatoria de {n_elementos} elementos: \")\n",
    "    muestra_path = obtener_muestras_aleatorias_de_dataset(dataset_path, n_elementos, muestra_path)\n",
    "\n",
    "\n",
    "#print(\"\")\n",
    "#print(\"Q1: Las top 10 fechas donde hay más tweets y sus usuarios: \")\n",
    "#print(\"===========================================================\")\n",
    "#q1_m = q1_memory(muestra_path_parcial)\n",
    "#q1_t = q1_time(muestra_path_parcial)\n",
    "#print(q1_t)\n",
    "\n",
    "\n",
    "#print(\"\")\n",
    "#print(\"Los top 10 emojis más usados con su respectivo conteo: \")\n",
    "#print(\"===========================================================\")\n",
    "#q2_m = q2_memory(muestra_path_parcial)\n",
    "#q2_t = q2_time(muestra_path_parcial)\n",
    "#print(q2_t)\n",
    "\n",
    "\n",
    "print(\"\")\n",
    "print(\"Q3: El top 10 histórico de usuarios (username) más influyentes en función del conteo de las menciones (@) que registra cada uno de ellos:\")\n",
    "print(\"===========================================================\")\n",
    "#q3_m = q3_memory(muestra_path_parcial)\n",
    "q3_t = q3_time(muestra_path_parcial)\n",
    "print(q3_t)\n",
    "\n",
    "spark.stop() #Despues de ocupar spark en q1_t, q2_t, q3_t, se cierra la sesión de spark.\n"
   ]
  },
  {
   "cell_type": "code",
   "execution_count": null,
   "metadata": {},
   "outputs": [],
   "source": []
  },
  {
   "cell_type": "code",
   "execution_count": null,
   "metadata": {},
   "outputs": [],
   "source": []
  }
 ],
 "metadata": {
  "kernelspec": {
   "display_name": "Python 3 (ipykernel)",
   "language": "python",
   "name": "python3"
  },
  "language_info": {
   "codemirror_mode": {
    "name": "ipython",
    "version": 3
   },
   "file_extension": ".py",
   "mimetype": "text/x-python",
   "name": "python",
   "nbconvert_exporter": "python",
   "pygments_lexer": "ipython3",
   "version": "3.12.4"
  }
 },
 "nbformat": 4,
 "nbformat_minor": 4
}
