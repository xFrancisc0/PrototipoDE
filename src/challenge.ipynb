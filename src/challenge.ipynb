{
 "cells": [
  {
   "cell_type": "code",
   "execution_count": 9,
   "metadata": {},
   "outputs": [],
   "source": [
    "from Servicios.GoogleDriveService.GoogleDriveService import GoogleDriveService\n",
    "from Servicios.OrquestadorService.OrchestrateService import OrchestrateService\n",
    "from IPython.display import clear_output"
   ]
  },
  {
   "cell_type": "code",
   "execution_count": null,
   "metadata": {},
   "outputs": [],
   "source": [
    "# Crear variables\n",
    "IdContenedorBronze = \"1yQCQ3BhNPdXiz890KTF9iNB5qdeTATlV\"\n",
    "IdContenedorGold = \"1TMq41pVhsEDK1IUP4kQHzf7aIsagVihE\""
   ]
  },
  {
   "cell_type": "code",
   "execution_count": 20,
   "metadata": {},
   "outputs": [
    {
     "name": "stdout",
     "output_type": "stream",
     "text": [
      "hola\n",
      "hola2\n",
      "hola3\n",
      "hola4\n",
      "hola5\n"
     ]
    },
    {
     "ename": "AttributeError",
     "evalue": "'OrchestrateService' object has no attribute 'gdriveservice_listar_archivos'",
     "output_type": "error",
     "traceback": [
      "\u001b[1;31m---------------------------------------------------------------------------\u001b[0m",
      "\u001b[1;31mAttributeError\u001b[0m                            Traceback (most recent call last)",
      "Cell \u001b[1;32mIn[20], line 9\u001b[0m\n\u001b[0;32m      6\u001b[0m orchestrate_service \u001b[38;5;241m=\u001b[39m OrchestrateService(google_drive_service)\n\u001b[0;32m      8\u001b[0m \u001b[38;5;66;03m# Ejecutar el método gdriveservice_listar_archivos desde OrchestrateService\u001b[39;00m\n\u001b[1;32m----> 9\u001b[0m \u001b[43morchestrate_service\u001b[49m\u001b[38;5;241;43m.\u001b[39;49m\u001b[43mgdriveservice_listar_archivos\u001b[49m()\n\u001b[0;32m     10\u001b[0m \u001b[38;5;28mprint\u001b[39m(\u001b[38;5;241m8\u001b[39m)\n",
      "\u001b[1;31mAttributeError\u001b[0m: 'OrchestrateService' object has no attribute 'gdriveservice_listar_archivos'"
     ]
    }
   ],
   "source": [
    "\n",
    "# Crear instancia de GoogleDriveService\n",
    "google_drive_service = GoogleDriveService()\n",
    "\n",
    "# Crear instancia de OrchestrateService, inyectando GoogleDriveService\n",
    "orchestrate_service = OrchestrateService(google_drive_service)\n",
    "\n",
    "# Ejecutar el método gdriveservice_listar_archivos desde OrchestrateService\n",
    "orchestrate_service.gdriveservice_listar_archivos()\n",
    "print(8)"
   ]
  },
  {
   "cell_type": "code",
   "execution_count": null,
   "metadata": {},
   "outputs": [],
   "source": []
  },
  {
   "cell_type": "code",
   "execution_count": null,
   "metadata": {},
   "outputs": [],
   "source": []
  }
 ],
 "metadata": {
  "kernelspec": {
   "display_name": "Python 3 (ipykernel)",
   "language": "python",
   "name": "python3"
  },
  "language_info": {
   "codemirror_mode": {
    "name": "ipython",
    "version": 3
   },
   "file_extension": ".py",
   "mimetype": "text/x-python",
   "name": "python",
   "nbconvert_exporter": "python",
   "pygments_lexer": "ipython3",
   "version": "3.12.4"
  }
 },
 "nbformat": 4,
 "nbformat_minor": 4
}
